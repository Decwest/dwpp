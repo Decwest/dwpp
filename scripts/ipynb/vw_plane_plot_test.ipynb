{
 "cells": [
  {
   "cell_type": "markdown",
   "metadata": {},
   "source": [
    "# vω空間におけるプロットのテスト"
   ]
  },
  {
   "cell_type": "code",
   "execution_count": 3,
   "metadata": {},
   "outputs": [],
   "source": [
    "import pickle\n",
    "from config import V_MAX, V_MIN, W_MAX, W_MIN, A_MAX, AW_MAX, DT\n",
    "import matplotlib.pyplot as plt\n",
    "\n",
    "plt.rcParams[\"font.size\"] = 9  # 全体のフォントサイズが変更されます。\n",
    "plt.rcParams[\"font.family\"] = \"Times New Roman\"  # 全体のフォントを設定\n",
    "plt.rcParams[\"mathtext.fontset\"] = \"stix\"  # math fontの設定\n",
    "plt.rcParams[\"font.weight\"] = \"normal\"  # フォントの太さを細字に設定\n",
    "plt.rcParams[\"axes.linewidth\"] = 1.0  # axis line width\n",
    "plt.rcParams[\"axes.grid\"] = True  # make grid\n",
    "plt.rcParams[\"legend.edgecolor\"] = \"black\"  # edgeの色を変更\n",
    "plt.rcParams[\"legend.handlelength\"] = 1  # 凡例の線の長さを調節\n",
    "\n",
    "with open('/home/ytpc2022e/decwest_workspace/dwpp/scripts/pkl/curvatures.pkl', 'rb') as f:\n",
    "    curvatures = pickle.load(f)\n",
    "with open('/home/ytpc2022e/decwest_workspace/dwpp/scripts/pkl/regulated_vs.pkl', 'rb') as f:\n",
    "    regulated_vs = pickle.load(f)\n",
    "with open('/home/ytpc2022e/decwest_workspace/dwpp/scripts/pkl/robot_velocities.pkl', 'rb') as f:\n",
    "    robot_velocities = pickle.load(f)\n",
    "with open('/home/ytpc2022e/decwest_workspace/dwpp/scripts/pkl/robot_ref_velocities.pkl', 'rb') as f:\n",
    "    robot_ref_velocities = pickle.load(f)\n",
    "with open('/home/ytpc2022e/decwest_workspace/dwpp/scripts/pkl/time_stamps.pkl', 'rb') as f:\n",
    "    time_stamps = pickle.load(f)"
   ]
  },
  {
   "cell_type": "code",
   "execution_count": 4,
   "metadata": {},
   "outputs": [],
   "source": [
    "curvature = curvatures[len(curvatures)//2]\n",
    "regulated_v = regulated_vs[len(curvatures)//2]\n",
    "robot_velocity = robot_velocities[len(curvatures)//2]\n",
    "robot_ref_velocity = robot_ref_velocities[len(curvatures)//2]\n",
    "time_stamp = time_stamps[len(curvatures)//2]"
   ]
  },
  {
   "cell_type": "code",
   "execution_count": 13,
   "metadata": {},
   "outputs": [
    {
     "data": {
      "image/png": "[encoded data removed]",
      "text/plain": [
       "<Figure size 400x400 with 1 Axes>"
      ]
     },
     "metadata": {},
     "output_type": "display_data"
    }
   ],
   "source": [
    "fig = plt.figure(figsize=(4, 4))\n",
    "ax = fig.add_subplot(111)\n",
    "ax.set_xlim(V_MIN-0.05, V_MAX+0.05)\n",
    "ax.set_ylim(W_MIN-0.05, W_MAX+0.05)\n",
    "ax.set_xlabel('$v$')\n",
    "ax.set_ylabel('$\\omega$')\n",
    "ax.set_title('$v$$\\omega$ plot')\n",
    "# ax.set_aspect('equal')\n",
    "\n",
    "# 速度の上限値\n",
    "ax.axvline(x = V_MAX, linestyle=\"--\", c=\"black\")\n",
    "ax.axvline(x = V_MIN, linestyle=\"--\", c=\"black\")\n",
    "ax.axhline(y = W_MIN, linestyle=\"--\", c=\"black\")\n",
    "ax.axhline(y = W_MAX, linestyle=\"--\", c=\"black\")\n",
    "\n",
    "# regulatedされた上限値\n",
    "ax.axvline(x = regulated_v, linestyle=\"--\", c=\"red\", label=\"regulated v\")\n",
    "\n",
    "# 参照速度\n",
    "ax.scatter(robot_ref_velocity[0], robot_ref_velocity[1], c=\"blue\", label=\"reference velocity\")\n",
    "\n",
    "# 現在速度\n",
    "ax.scatter(robot_velocity[0], robot_velocity[1], c=\"red\", label=\"current velocity\")\n",
    "\n",
    "# dynamic window\n",
    "dw_vmax = min(robot_velocity[0] + A_MAX * DT, V_MAX)\n",
    "dw_vmin = max(robot_velocity[0] - A_MAX * DT, V_MIN)\n",
    "dw_wmax = min(robot_velocity[1] + AW_MAX * DT, W_MAX)\n",
    "dw_wmin = max(robot_velocity[1] - AW_MAX * DT, W_MIN)\n",
    "# regulated_vの考慮\n",
    "if dw_vmax > regulated_v:\n",
    "    dw_vmax = max(dw_vmin, regulated_v)\n",
    "ax.plot([dw_vmin, dw_vmin], [dw_wmin, dw_wmax], c=\"black\")\n",
    "ax.plot([dw_vmax, dw_vmax], [dw_wmin, dw_wmax], c=\"black\")\n",
    "ax.plot([dw_vmin, dw_vmax], [dw_wmin, dw_wmin], c=\"black\")\n",
    "ax.plot([dw_vmin, dw_vmax], [dw_wmax, dw_wmax], c=\"black\")\n",
    "\n",
    "# 曲率の直線\n",
    "ax.axline((0, 0), slope=curvature, color='red', lw=2, label=\"$\\omega={\\phi}v$\")\n",
    "\n",
    "# ax.legend()\n",
    "ax.set_aspect('equal')\n",
    "plt.tight_layout()\n",
    "\n"
   ]
  },
  {
   "cell_type": "code",
   "execution_count": 45,
   "metadata": {},
   "outputs": [],
   "source": [
    "for idx, (curvature, regulated_v, robot_velocity, robot_ref_velocity, time_stamp) in enumerate(zip(curvatures, regulated_vs, robot_velocities, robot_ref_velocities, time_stamps)):\n",
    "    fig = plt.figure(figsize=(16, 9))\n",
    "    ax = fig.add_subplot(111)\n",
    "    ax.set_xlim(V_MIN-0.05, V_MAX+0.05)\n",
    "    ax.set_ylim(W_MIN-0.2, W_MAX+0.2)\n",
    "    ax.set_xlabel('$v$')\n",
    "    ax.set_ylabel('$\\omega$')\n",
    "    ax.set_title('$v$$\\omega$ plot')\n",
    "    # ax.set_aspect('equal')\n",
    "\n",
    "    # 速度の上限値\n",
    "    ax.axvline(x = V_MAX, linestyle=\"--\", c=\"black\")\n",
    "    ax.axvline(x = V_MIN, linestyle=\"--\", c=\"black\")\n",
    "    ax.axhline(y = W_MIN, linestyle=\"--\", c=\"black\")\n",
    "    ax.axhline(y = W_MAX, linestyle=\"--\", c=\"black\")\n",
    "\n",
    "    # regulatedされた上限値\n",
    "    ax.axvline(x = regulated_v, linestyle=\"--\", c=\"red\", label=\"regulated v\")\n",
    "\n",
    "    # 参照速度\n",
    "    ax.scatter(robot_ref_velocity[0], robot_ref_velocity[1], c=\"green\", label=\"reference velocity\")\n",
    "\n",
    "    # 現在速度\n",
    "    ax.scatter(robot_velocity[0], robot_velocity[1], c=\"red\", label=\"current velocity\")\n",
    "\n",
    "    # dynamic window\n",
    "    if idx == 0:\n",
    "        prev_robot_velocity = robot_velocity\n",
    "    else:\n",
    "        prev_robot_velocity = robot_velocities[idx-1]\n",
    "\n",
    "    # 一時刻前の速度\n",
    "    ax.scatter(prev_robot_velocity[0], prev_robot_velocity[1], c=\"blue\", label=\"last velocity\")\n",
    "    \n",
    "    dw_vmax = min(prev_robot_velocity[0] + A_MAX * DT, V_MAX)\n",
    "    dw_vmin = max(prev_robot_velocity[0] - A_MAX * DT, V_MIN)\n",
    "    dw_wmax = min(prev_robot_velocity[1] + AW_MAX * DT, W_MAX)\n",
    "    dw_wmin = max(prev_robot_velocity[1] - AW_MAX * DT, W_MIN)\n",
    "    # regulated_vの考慮\n",
    "    if dw_vmax > regulated_v:\n",
    "        dw_vmax = max(dw_vmin, regulated_v)\n",
    "    ax.plot([dw_vmin, dw_vmin], [dw_wmin, dw_wmax], c=\"black\", label=\"dynamic window\")\n",
    "    ax.plot([dw_vmax, dw_vmax], [dw_wmin, dw_wmax], c=\"black\")\n",
    "    ax.plot([dw_vmin, dw_vmax], [dw_wmin, dw_wmin], c=\"black\")\n",
    "    ax.plot([dw_vmin, dw_vmax], [dw_wmax, dw_wmax], c=\"black\")\n",
    "\n",
    "    # 曲率の直線\n",
    "    ax.axline((0, 0), slope=curvature, color='red', lw=2, label=\"$\\omega={\\phi}v$\")\n",
    "\n",
    "    ax.legend()\n",
    "    plt.tight_layout()\n",
    "    plt.savefig(f\"/home/ytpc2022e/decwest_workspace/dwpp/simulation/results/step_curve_0/vw_plot/{idx:04d}.png\")\n",
    "    \n",
    "    plt.close()"
   ]
  },
  {
   "cell_type": "markdown",
   "metadata": {},
   "source": [
    "動画化"
   ]
  },
  {
   "cell_type": "code",
   "execution_count": 50,
   "metadata": {},
   "outputs": [],
   "source": [
    "from pathlib import Path\n",
    "import cv2\n",
    "\n",
    "path = Path(\"/home/ytpc2022e/decwest_workspace/dwpp/simulation/results/step_curve_0/vw_plot/dwpp\")\n",
    "image_paths = sorted(path.glob(\"*.png\"))\n",
    "h, w, _ = cv2.imread(str(image_paths[0])).shape\n",
    "fourcc = cv2.VideoWriter_fourcc('m','p','4', 'v')\n",
    "video_path = \"/home/ytpc2022e/decwest_workspace/dwpp/simulation/results/step_curve_0/vw_plot/dwpp.mp4\"\n",
    "video = cv2.VideoWriter(video_path, fourcc, int(1//DT), (w, h))\n",
    "for image_path in image_paths:\n",
    "    image = cv2.imread(str(image_path))\n",
    "    video.write(image)\n",
    "video.release()"
   ]
  }
 ],
 "metadata": {
  "kernelspec": {
   "display_name": ".venv",
   "language": "python",
   "name": "python3"
  },
  "language_info": {
   "codemirror_mode": {
    "name": "ipython",
    "version": 3
   },
   "file_extension": ".py",
   "mimetype": "text/x-python",
   "name": "python",
   "nbconvert_exporter": "python",
   "pygments_lexer": "ipython3",
   "version": "3.10.15"
  }
 },
 "nbformat": 4,
 "nbformat_minor": 2
}
